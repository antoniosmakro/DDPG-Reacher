{
 "cells": [
  {
   "cell_type": "markdown",
   "metadata": {},
   "source": [
    "# DDPG - Continuous Control\n",
    "\n",
    "---\n",
    "\n",
    "In this notebook, we will train an agent to navigate the Unity ML-Agents Reacher environment, which in this version contains 20 identical agents, each with its own copy of the environment. The goal is to train a double-jointed arm to reach different target locations. The training algorithm that is used for training is DDPG, implemented in PyTorch.\n",
    "\n",
    "### 1. Import Required Packages\n",
    "\n",
    "We begin by importing some necessary packages. If the code cell below returns an error, please revisit the project instructions on the README.md file."
   ]
  },
  {
   "cell_type": "code",
   "execution_count": null,
   "metadata": {},
   "outputs": [],
   "source": [
    "from unityagents import UnityEnvironment\n",
    "import numpy as np\n",
    "from ddpg_agent import Agent\n",
    "import torch\n",
    "\n",
    "from collections import deque\n",
    "\n",
    "import matplotlib.pyplot as plt\n",
    "%matplotlib inline"
   ]
  },
  {
   "cell_type": "markdown",
   "metadata": {},
   "source": [
    "We set the hyperparameters we will use later during the DDPG implementation. The values are chosen using trial and error and from RL baselines"
   ]
  },
  {
   "cell_type": "code",
   "execution_count": null,
   "metadata": {},
   "outputs": [],
   "source": [
    "BUFFER_SIZE = int(1e5)  # replay buffer size\n",
    "BATCH_SIZE = 128        # minibatch size\n",
    "GAMMA = 0.99            # discount factor\n",
    "TAU = 1e-3              # for soft update of target parameters\n",
    "LR = 1e-4               # learning rate of the actor and of the critic\n",
    "WEIGHT_DECAY = 0.       # L2 weight decay"
   ]
  },
  {
   "cell_type": "markdown",
   "metadata": {},
   "source": [
    "Next, we will start the environment!  **_Before running the code cell below_**, change the `file_name` parameter to match the location of the Unity environment that you downloaded.\n",
    "\n",
    "- **Mac**: `\"path/to/Reacher.app\"`\n",
    "- **Windows** (x86): `\"path/to/Reacher_Windows_x86/Reacher.exe\"`\n",
    "- **Windows** (x86_64): `\"path/to/Reacher_Windows_x86_64/Reacher.exe\"`\n",
    "- **Linux** (x86): `\"path/to/Reacher_Linux/Reacher.x86\"`\n",
    "- **Linux** (x86_64): `\"path/to/Reacher_Linux/Reacher.x86_64\"`\n",
    "- **Linux** (x86, headless): `\"path/to/Reacher_Linux_NoVis/Reacher.x86\"`\n",
    "- **Linux** (x86_64, headless): `\"path/to/Reacher_Linux_NoVis/Reacher.x86_64\"`\n",
    "\n",
    "For instance, if you are using a Mac, then you downloaded `Reacher.app`.  If this file is in the same folder as the notebook, then the line below should appear as follows:\n",
    "```\n",
    "env = UnityEnvironment(file_name=\"Reacher.app\")\n",
    "```"
   ]
  },
  {
   "cell_type": "code",
   "execution_count": null,
   "metadata": {},
   "outputs": [],
   "source": [
    "env = UnityEnvironment(file_name='Reacher.app')"
   ]
  },
  {
   "cell_type": "markdown",
   "metadata": {},
   "source": [
    "Environments contain **_brains_** which are responsible for deciding the actions of their associated agents. Here we check for the first brain available, and set it as the default brain we will be controlling from Python."
   ]
  },
  {
   "cell_type": "code",
   "execution_count": null,
   "metadata": {},
   "outputs": [],
   "source": [
    "# get the default brain\n",
    "brain_name = env.brain_names[0]\n",
    "brain = env.brains[brain_name]"
   ]
  },
  {
   "cell_type": "markdown",
   "metadata": {},
   "source": [
    "### 2. Examine the State and Action Spaces\n",
    "\n",
    "As mentioned earlier, in this environment, a double-jointed arm can move to target locations. A reward of `+0.1` is provided for each step that the agent's hand is in the goal location. Thus, the goal of our agent is to maintain its position at the target location for as many time steps as possible.\n",
    "\n",
    "The observation space consists of `33` variables corresponding to position, rotation, velocity, and angular velocities of the arm.  Each action is a vector with four numbers, corresponding to torque applicable to two joints.  Every entry in the action vector must be a number between `-1` and `1`.\n",
    "\n",
    "Run the code cell below to print some information about the environment."
   ]
  },
  {
   "cell_type": "code",
   "execution_count": null,
   "metadata": {},
   "outputs": [],
   "source": [
    "# reset the environment\n",
    "env_info = env.reset(train_mode=False)[brain_name]\n",
    "\n",
    "# number of agents\n",
    "num_agents = len(env_info.agents)\n",
    "print('Number of agents:', num_agents)\n",
    "\n",
    "# size of each action\n",
    "action_size = brain.vector_action_space_size\n",
    "print('Size of each action:', action_size)\n",
    "\n",
    "# examine the state space \n",
    "states = env_info.vector_observations\n",
    "state_size = states.shape[1]\n",
    "print('There are {} agents. Each observes a state with length: {}'.format(states.shape[0], state_size))\n",
    "print('The state for the first agent looks like:', states[0])"
   ]
  },
  {
   "cell_type": "markdown",
   "metadata": {},
   "source": [
    "### 3. Train Agent\n",
    "\n",
    "The code below initiates the agents and starts the training loop. Once the average reward over 100 episodes reaches 30, the training stops and the weights are saved in  **_checkpoint\\_reacher\\_critic.pth_** for the actor network and  **_checkpoint\\_reacher\\_critic.pth_** for the critic network."
   ]
  },
  {
   "cell_type": "code",
   "execution_count": null,
   "metadata": {},
   "outputs": [],
   "source": [
    "# initialise agents\n",
    "agents = Agent(\n",
    "    state_size=state_size, \n",
    "    action_size=action_size, \n",
    "    num_agents=num_agents, \n",
    "    random_seed=0,\n",
    "    buffer_size = BUFFER_SIZE,\n",
    "    batch_size = BATCH_SIZE,\n",
    "    gamma = GAMMA,\n",
    "    tau = TAU,\n",
    "    lr = LR,\n",
    "    weight_decay = WEIGHT_DECAY\n",
    ")"
   ]
  },
  {
   "cell_type": "code",
   "execution_count": null,
   "metadata": {},
   "outputs": [],
   "source": [
    "def ddpg_train(n_episodes=1000):\n",
    "\n",
    "    total_scores = []                                      # list containing scores from each episode\n",
    "    scores_window = deque(maxlen=100)                      # last 100 scores\n",
    "    for i_episode in range(1, n_episodes+1):\n",
    "        env_info = env.reset(train_mode=True)[brain_name]  # reset the environment\n",
    "        states = env_info.vector_observations              # get the current state (for each agent)\n",
    "        scores = np.zeros(num_agents)                      # initialize the score (for each agent)\n",
    "        while True:\n",
    "            actions = agents.act(states)                   # select an action (for each agent)\n",
    "            env_info = env.step(actions)[brain_name]       # send all actions to tne environment\n",
    "            next_states = env_info.vector_observations     # get next state (for each agent)\n",
    "            rewards = env_info.rewards                     # get reward (for each agent)\n",
    "            done = env_info.local_done                     # see if episode has finished\n",
    "            \n",
    "            agents.step(states, actions, rewards, next_states, done)\n",
    "            scores += np.mean(rewards)\n",
    "            states = next_states\n",
    "            if np.any(done): \n",
    "                break \n",
    "        scores_window.append(scores)       # save most recent score\n",
    "        total_scores.append(scores)        # save scores without deque to plot later\n",
    "        print('\\rEpisode {}\\tAverage Score: {:.2f}'.format(i_episode, np.mean(scores_window)), end=\"\")\n",
    "        if i_episode % 100 == 0:\n",
    "            print('\\rEpisode {}\\tAverage Score: {:.2f}'.format(i_episode, np.mean(scores_window)))\n",
    "        if np.mean(scores_window)>=30:\n",
    "            print('\\nEnvironment solved in {:d} episodes!\\tAverage Score: {:.2f}'.format(i_episode, np.mean(scores_window)))\n",
    "            torch.save(agents.actor_local.state_dict(), 'checkpoint_reacher_actor.pth')\n",
    "            torch.save(agents.critic_local.state_dict(), 'checkpoint_reacher_critic.pth')\n",
    "            break\n",
    "    return total_scores\n",
    "\n",
    "scores = ddpg_train()"
   ]
  },
  {
   "cell_type": "markdown",
   "metadata": {},
   "source": [
    "### 4. Plot Scores\n",
    "\n",
    "Once training has finished we can plot the average reward across the 20 agents."
   ]
  },
  {
   "cell_type": "code",
   "execution_count": null,
   "metadata": {},
   "outputs": [],
   "source": [
    "# plot the scores\n",
    "fig = plt.figure()\n",
    "ax = fig.add_subplot(111)\n",
    "plt.plot(np.arange(len(scores)), scores)\n",
    "plt.ylabel('Score')\n",
    "plt.xlabel('Episode #')\n",
    "plt.show()"
   ]
  },
  {
   "cell_type": "markdown",
   "metadata": {},
   "source": [
    "### 5. Test Trained Agent on Environment\n",
    "Once this cell is executed, we can watch the agent's performance for one episode."
   ]
  },
  {
   "cell_type": "code",
   "execution_count": null,
   "metadata": {},
   "outputs": [],
   "source": [
    "env_info = env.reset(train_mode=False)[brain_name]            # reset the environment    \n",
    "states = env_info.vector_observations                         # get the current state (for each agent)\n",
    "scores = np.zeros(num_agents)                                 # initialize the score (for each agent)\n",
    "while True:\n",
    "    actions = agents.act(states)                               # select an action (for each agent)\n",
    "    env_info = env.step(actions)[brain_name]                   # send all actions to tne environment\n",
    "    next_states = env_info.vector_observations                 # get next state (for each agent)\n",
    "    rewards = env_info.rewards                                 # get reward (for each agent)\n",
    "    dones = env_info.local_done                                # see if episode finished\n",
    "    scores += env_info.rewards                                 # update the score (for each agent)\n",
    "    states = next_states                                       # roll over states to next time step\n",
    "    if np.any(dones):                                          # exit loop if episode finished\n",
    "        break\n",
    "print('Total score (averaged over agents) this episode: {}'.format(np.mean(scores)))"
   ]
  },
  {
   "cell_type": "markdown",
   "metadata": {},
   "source": [
    "### 6. Load Saved Weights and Test on Environment\n",
    "Load the checkpoint weights to check the saved agent's performance for one episode."
   ]
  },
  {
   "cell_type": "code",
   "execution_count": null,
   "metadata": {},
   "outputs": [],
   "source": [
    "\n",
    "# load the weights from file\n",
    "agents.actor_local.load_state_dict(torch.load('checkpoint_reacher_actor.pth'))\n",
    "agents.critic_local.load_state_dict(torch.load('checkpoint_reacher_critic.pth'))\n",
    "\n",
    "env_info = env.reset(train_mode=False)[brain_name]            # reset the environment    \n",
    "states = env_info.vector_observations                         # get the current state (for each agent)\n",
    "scores = np.zeros(num_agents)                                 # initialize the score (for each agent)\n",
    "while True:\n",
    "    actions = agents.act(states)                               # select an action (for each agent)\n",
    "    env_info = env.step(actions)[brain_name]                   # send all actions to tne environment\n",
    "    next_states = env_info.vector_observations                 # get next state (for each agent)\n",
    "    rewards = env_info.rewards                                 # get reward (for each agent)\n",
    "    dones = env_info.local_done                                # see if episode finished\n",
    "    scores += env_info.rewards                                 # update the score (for each agent)\n",
    "    states = next_states                                       # roll over states to next time step\n",
    "    if np.any(dones):                                          # exit loop if episode finished\n",
    "        break\n",
    "print('Total score (averaged over agents) this episode: {}'.format(np.mean(scores)))  "
   ]
  },
  {
   "cell_type": "markdown",
   "metadata": {},
   "source": [
    "When finished, you can close the environment."
   ]
  },
  {
   "cell_type": "code",
   "execution_count": null,
   "metadata": {},
   "outputs": [],
   "source": [
    "env.close()"
   ]
  }
 ],
 "metadata": {
  "kernelspec": {
   "display_name": "rlu",
   "language": "python",
   "name": "rlu"
  },
  "language_info": {
   "codemirror_mode": {
    "name": "ipython",
    "version": 3
   },
   "file_extension": ".py",
   "mimetype": "text/x-python",
   "name": "python",
   "nbconvert_exporter": "python",
   "pygments_lexer": "ipython3",
   "version": "3.6.13"
  },
  "vscode": {
   "interpreter": {
    "hash": "f4e49ba48caa995cbf9af28f0f88761b21e99dea5211ea615817967947354016"
   }
  }
 },
 "nbformat": 4,
 "nbformat_minor": 2
}
